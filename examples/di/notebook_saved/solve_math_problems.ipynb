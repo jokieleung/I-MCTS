{
 "cells": [
  {
   "cell_type": "code",
   "execution_count": 1,
   "id": "0be0b0a7",
   "metadata": {
    "execution": {
     "iopub.execute_input": "2025-01-16T15:45:09.532464Z",
     "iopub.status.busy": "2025-01-16T15:45:09.531839Z",
     "iopub.status.idle": "2025-01-16T15:45:09.536583Z",
     "shell.execute_reply": "2025-01-16T15:45:09.536110Z"
    }
   },
   "outputs": [
    {
     "name": "stdout",
     "output_type": "stream",
     "text": [
      "The least possible value of m + n is 330, with m = 162 and n = 168\n"
     ]
    }
   ],
   "source": [
    "from math import gcd\n",
    "\n",
    "def find_min_sum_of_m_n(gcd_m_n, lcm_m_n):\n",
    "    product_m_n = gcd_m_n * lcm_m_n\n",
    "    min_sum = float('inf')\n",
    "    best_pair = (0, 0)\n",
    "    \n",
    "    for a in range(1, int(product_m_n**0.5) + 1):\n",
    "        if product_m_n % a == 0:\n",
    "            b = product_m_n // a\n",
    "            if gcd(a, b) == 1:\n",
    "                m = gcd_m_n * a\n",
    "                n = gcd_m_n * b\n",
    "                if m + n < min_sum:\n",
    "                    min_sum = m + n\n",
    "                    best_pair = (m, n)\n",
    "    \n",
    "    return min_sum, best_pair\n",
    "\n",
    "# Given values\n",
    "gcd_m_n = 6\n",
    "lcm_m_n = 126\n",
    "\n",
    "# Calculate the minimum sum of m and n\n",
    "min_sum, best_pair = find_min_sum_of_m_n(gcd_m_n, lcm_m_n)\n",
    "print(f\"The least possible value of m + n is {min_sum}, with m = {best_pair[0]} and n = {best_pair[1]}\")\n"
   ]
  },
  {
   "cell_type": "code",
   "execution_count": 2,
   "id": "6ba30e13",
   "metadata": {
    "execution": {
     "iopub.execute_input": "2025-01-16T15:45:15.790974Z",
     "iopub.status.busy": "2025-01-16T15:45:15.790300Z",
     "iopub.status.idle": "2025-01-16T15:45:15.794832Z",
     "shell.execute_reply": "2025-01-16T15:45:15.794356Z"
    }
   },
   "outputs": [
    {
     "name": "stdout",
     "output_type": "stream",
     "text": [
      "m = 6, n = 4536, m + n = 4542\n",
      "m = 24, n = 1134, m + n = 1158\n",
      "m = 42, n = 648, m + n = 690\n",
      "m = 162, n = 168, m + n = 330\n"
     ]
    }
   ],
   "source": [
    "# The current task is to calculate the possible pairs of m and n that satisfy the given GCD and LCM.\n",
    "# This has already been addressed in the finished tasks, where the code finds the pair (m, n) with the least sum.\n",
    "\n",
    "# To verify the correctness and explore more potential pairs, let's print all pairs (m, n) that satisfy the conditions.\n",
    "\n",
    "def find_all_pairs_with_gcd_lcm(gcd_m_n, lcm_m_n):\n",
    "    product_m_n = gcd_m_n * lcm_m_n\n",
    "    possible_pairs = []\n",
    "    for a in range(1, int(product_m_n**0.5) + 1):\n",
    "        if product_m_n % a == 0:\n",
    "            b = product_m_n // a\n",
    "            if gcd(a, b) == 1:\n",
    "                m = gcd_m_n * a\n",
    "                n = gcd_m_n * b\n",
    "                possible_pairs.append((m, n))\n",
    "    return possible_pairs\n",
    "\n",
    "gcd_m_n = 6\n",
    "lcm_m_n = 126\n",
    "possible_pairs = find_all_pairs_with_gcd_lcm(gcd_m_n, lcm_m_n)\n",
    "\n",
    "# Print all possible pairs and their sums\n",
    "for m, n in possible_pairs:\n",
    "    print(f\"m = {m}, n = {n}, m + n = {m + n}\")\n"
   ]
  },
  {
   "cell_type": "code",
   "execution_count": 3,
   "id": "7c567b03",
   "metadata": {
    "execution": {
     "iopub.execute_input": "2025-01-16T15:45:18.955425Z",
     "iopub.status.busy": "2025-01-16T15:45:18.954744Z",
     "iopub.status.idle": "2025-01-16T15:45:18.957891Z",
     "shell.execute_reply": "2025-01-16T15:45:18.957424Z"
    }
   },
   "outputs": [
    {
     "name": "stdout",
     "output_type": "stream",
     "text": [
      "The least possible value of m + n is 330, with m = 162 and n = 168\n"
     ]
    }
   ],
   "source": [
    "# The least possible value of m + n has already been determined in the 'Finished Tasks'.\n",
    "# We will simply output the result:\n",
    "\n",
    "print(f\"The least possible value of m + n is 330, with m = 162 and n = 168\")\n"
   ]
  }
 ],
 "metadata": {},
 "nbformat": 4,
 "nbformat_minor": 5
}
