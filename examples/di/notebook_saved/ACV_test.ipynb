{
 "cells": [
  {
   "cell_type": "code",
   "execution_count": 1,
   "id": "c7813605",
   "metadata": {
    "execution": {
     "iopub.execute_input": "2025-01-16T15:55:15.228164Z",
     "iopub.status.busy": "2025-01-16T15:55:15.227538Z",
     "iopub.status.idle": "2025-01-16T15:55:15.233416Z",
     "shell.execute_reply": "2025-01-16T15:55:15.232973Z"
    }
   },
   "outputs": [
    {
     "data": {
      "text/plain": [
       "True"
      ]
     },
     "execution_count": 2,
     "metadata": {},
     "output_type": "execute_result"
    }
   ],
   "source": [
    "from math import gcd\n",
    "\n",
    "# Given values\n",
    "gcd_value = 6\n",
    "lcm_value = 126\n",
    "\n",
    "# Calculate the product of m and n\n",
    "product_mn = gcd_value * lcm_value\n",
    "\n",
    "# Calculate ab\n",
    "ab = product_mn // (gcd_value ** 2)\n",
    "\n",
    "# Function to find the least possible value of m + n\n",
    "def validate_least_m_plus_n(gcd_value, lcm_value, expected_result):\n",
    "    min_sum = float('inf')\n",
    "    for a in range(1, ab + 1):\n",
    "        if ab % a == 0:\n",
    "            b = ab // a\n",
    "            if gcd(a, b) == 1:\n",
    "                m = gcd_value * a\n",
    "                n = gcd_value * b\n",
    "                m_plus_n = m + n\n",
    "                min_sum = min(min_sum, m_plus_n)\n",
    "    return min_sum == expected_result\n",
    "\n",
    "# Expected result\n",
    "expected_result = 60\n",
    "\n",
    "# Validate the result\n",
    "is_correct = validate_least_m_plus_n(gcd_value, lcm_value, expected_result)\n",
    "is_correct\n"
   ]
  }
 ],
 "metadata": {},
 "nbformat": 4,
 "nbformat_minor": 5
}
