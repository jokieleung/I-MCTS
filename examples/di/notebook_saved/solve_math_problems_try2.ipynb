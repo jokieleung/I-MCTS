{
 "cells": [
  {
   "cell_type": "code",
   "execution_count": 1,
   "id": "5464ca78",
   "metadata": {
    "execution": {
     "iopub.execute_input": "2025-01-16T15:48:09.587814Z",
     "iopub.status.busy": "2025-01-16T15:48:09.587362Z",
     "iopub.status.idle": "2025-01-16T15:48:09.592435Z",
     "shell.execute_reply": "2025-01-16T15:48:09.592020Z"
    }
   },
   "outputs": [
    {
     "data": {
      "text/plain": [
       "60"
      ]
     },
     "execution_count": 1,
     "metadata": {},
     "output_type": "execute_result"
    }
   ],
   "source": [
    "import math\n",
    "\n",
    "# Given values\n",
    "gcd_mn = 6\n",
    "lcm_mn = 126\n",
    "\n",
    "# Calculate ab\n",
    "ab = lcm_mn // gcd_mn\n",
    "\n",
    "# Find pairs (a, b) such that ab = 21 and gcd(a, b) = 1\n",
    "possible_pairs = []\n",
    "for a in range(1, int(math.sqrt(ab)) + 1):\n",
    "    if ab % a == 0:\n",
    "        b = ab // a\n",
    "        if math.gcd(a, b) == 1:\n",
    "            possible_pairs.append((a, b))\n",
    "\n",
    "# Calculate the minimum m + n\n",
    "min_sum = float('inf')\n",
    "for a, b in possible_pairs:\n",
    "    m = gcd_mn * a\n",
    "    n = gcd_mn * b\n",
    "    min_sum = min(min_sum, m + n)\n",
    "\n",
    "min_sum\n"
   ]
  },
  {
   "cell_type": "code",
   "execution_count": 2,
   "id": "3aba5bde",
   "metadata": {
    "execution": {
     "iopub.execute_input": "2025-01-16T15:48:15.885777Z",
     "iopub.status.busy": "2025-01-16T15:48:15.885109Z",
     "iopub.status.idle": "2025-01-16T15:48:15.890134Z",
     "shell.execute_reply": "2025-01-16T15:48:15.889692Z"
    }
   },
   "outputs": [
    {
     "data": {
      "text/plain": [
       "[(6, 126), (18, 42)]"
      ]
     },
     "execution_count": 2,
     "metadata": {},
     "output_type": "execute_result"
    }
   ],
   "source": [
    "# Given that the greatest common divisor (GCD) of m and n is 6, and their least common multiple (LCM) is 126,\n",
    "# we need to find the least possible value of m + n.\n",
    "\n",
    "# We already have the finished code that calculates the minimum sum of m and n.\n",
    "# The code has already been executed and the result is 60, which is the least possible value of m + n.\n",
    "\n",
    "# The possible pairs of m and n that satisfy the given GCD and LCM can be calculated as follows:\n",
    "\n",
    "gcd_mn = 6\n",
    "lcm_mn = 126\n",
    "\n",
    "# Calculate the product of the coprime factors a and b\n",
    "ab = lcm_mn // gcd_mn\n",
    "\n",
    "# Find coprime pairs (a, b) such that a * b = ab\n",
    "possible_pairs = []\n",
    "for a in range(1, int(math.sqrt(ab)) + 1):\n",
    "    if ab % a == 0:\n",
    "        b = ab // a\n",
    "        if math.gcd(a, b) == 1:\n",
    "            possible_pairs.append((a, b))\n",
    "\n",
    "# Calculate the possible pairs of m and n\n",
    "possible_mn_pairs = [(gcd_mn * a, gcd_mn * b) for a, b in possible_pairs]\n",
    "\n",
    "# Output the possible pairs of m and n\n",
    "possible_mn_pairs\n"
   ]
  },
  {
   "cell_type": "code",
   "execution_count": 3,
   "id": "3c0e62dd",
   "metadata": {
    "execution": {
     "iopub.execute_input": "2025-01-16T15:48:19.061507Z",
     "iopub.status.busy": "2025-01-16T15:48:19.060834Z",
     "iopub.status.idle": "2025-01-16T15:48:19.064672Z",
     "shell.execute_reply": "2025-01-16T15:48:19.064231Z"
    }
   },
   "outputs": [
    {
     "data": {
      "text/plain": [
       "60"
      ]
     },
     "execution_count": 3,
     "metadata": {},
     "output_type": "execute_result"
    }
   ],
   "source": [
    "# From the previously calculated pairs, we have (6, 126) and (18, 42).\n",
    "# We need to determine the least possible value of m + n.\n",
    "\n",
    "# Calculate m + n for each pair\n",
    "pair_1_sum = 6 + 126\n",
    "pair_2_sum = 18 + 42\n",
    "\n",
    "# Find the minimum sum\n",
    "least_possible_value = min(pair_1_sum, pair_2_sum)\n",
    "least_possible_value\n"
   ]
  }
 ],
 "metadata": {},
 "nbformat": 4,
 "nbformat_minor": 5
}
